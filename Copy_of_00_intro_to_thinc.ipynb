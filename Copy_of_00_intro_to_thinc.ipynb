{
  "nbformat": 4,
  "nbformat_minor": 0,
  "metadata": {
    "file_extension": ".py",
    "kernelspec": {
      "display_name": "Python 3.7.2 64-bit ('.env': venv)",
      "language": "python",
      "name": "python37"
    },
    "language_info": {
      "codemirror_mode": {
        "name": "ipython",
        "version": 3
      },
      "file_extension": ".py",
      "mimetype": "text/x-python",
      "name": "python",
      "nbconvert_exporter": "python",
      "pygments_lexer": "ipython3",
      "version": "3.7.2"
    },
    "mimetype": "text/x-python",
    "name": "python",
    "npconvert_exporter": "python",
    "pygments_lexer": "ipython3",
    "version": 3,
    "colab": {
      "name": "Copy of 00_intro_to_thinc.ipynb",
      "provenance": [],
      "include_colab_link": true
    }
  },
  "cells": [
    {
      "cell_type": "markdown",
      "metadata": {
        "id": "view-in-github",
        "colab_type": "text"
      },
      "source": [
        "<a href=\"https://colab.research.google.com/github/silverskab/HelloCodeSchoolProject/blob/master/Copy_of_00_intro_to_thinc.ipynb\" target=\"_parent\"><img src=\"https://colab.research.google.com/assets/colab-badge.svg\" alt=\"Open In Colab\"/></a>"
      ]
    },
    {
      "cell_type": "markdown",
      "metadata": {
        "id": "kiRIdRyD78NN",
        "colab_type": "text"
      },
      "source": [
        "# Intro to Thinc for beginners: defining a simple model and config & wrapping PyTorch, TensorFlow and MXNet\n",
        "\n",
        "This example shows how to get started with Thinc, using the \"hello world\" of neural network models: recognizing handwritten digits from the [MNIST dataset](http://yann.lecun.com/exdb/mnist/). For comparison, here's the same model implemented in other frameworks: [PyTorch version](https://github.com/pytorch/examples/blob/master/mnist/main.py), [TensorFlow version](https://github.com/tensorflow/tensorflow/blob/master/tensorflow/examples/tutorials/mnist/mnist.py). In this notebook, we'll walk through **creating and training the model**, using **config files**, registering **custom functions** and **wrapping models** defined in PyTorch, TensorFlow and MXNet. This tutorial is aimed at beginners, but it assumes basic knowledge of machine learning concepts and terminology."
      ]
    },
    {
      "cell_type": "code",
      "metadata": {
        "id": "GaF4TxpM78NS",
        "colab_type": "code",
        "colab": {
          "base_uri": "https://localhost:8080/",
          "height": 1000
        },
        "outputId": "83784cc8-7e1f-4860-bcb5-33ba094691b6"
      },
      "source": [
        "!pip install \"thinc>=8.0.0a0\" ml_datasets \"tqdm>=4.41\""
      ],
      "execution_count": 1,
      "outputs": [
        {
          "output_type": "stream",
          "text": [
            "Collecting thinc>=8.0.0a0\n",
            "\u001b[?25l  Downloading https://files.pythonhosted.org/packages/07/64/2630c151d99aaff22d6300a8682302343483002c3cbbc32ed8c5ff4e1f91/thinc-8.0.0a0-cp36-cp36m-manylinux1_x86_64.whl (976kB)\n",
            "\r\u001b[K     |▍                               | 10kB 8.5MB/s eta 0:00:01\r\u001b[K     |▊                               | 20kB 1.7MB/s eta 0:00:01\r\u001b[K     |█                               | 30kB 2.5MB/s eta 0:00:01\r\u001b[K     |█▍                              | 40kB 1.7MB/s eta 0:00:01\r\u001b[K     |█▊                              | 51kB 2.1MB/s eta 0:00:01\r\u001b[K     |██                              | 61kB 2.5MB/s eta 0:00:01\r\u001b[K     |██▍                             | 71kB 2.9MB/s eta 0:00:01\r\u001b[K     |██▊                             | 81kB 3.2MB/s eta 0:00:01\r\u001b[K     |███                             | 92kB 3.6MB/s eta 0:00:01\r\u001b[K     |███▍                            | 102kB 2.8MB/s eta 0:00:01\r\u001b[K     |███▊                            | 112kB 2.8MB/s eta 0:00:01\r\u001b[K     |████                            | 122kB 2.8MB/s eta 0:00:01\r\u001b[K     |████▍                           | 133kB 2.8MB/s eta 0:00:01\r\u001b[K     |████▊                           | 143kB 2.8MB/s eta 0:00:01\r\u001b[K     |█████                           | 153kB 2.8MB/s eta 0:00:01\r\u001b[K     |█████▍                          | 163kB 2.8MB/s eta 0:00:01\r\u001b[K     |█████▊                          | 174kB 2.8MB/s eta 0:00:01\r\u001b[K     |██████                          | 184kB 2.8MB/s eta 0:00:01\r\u001b[K     |██████▍                         | 194kB 2.8MB/s eta 0:00:01\r\u001b[K     |██████▊                         | 204kB 2.8MB/s eta 0:00:01\r\u001b[K     |███████                         | 215kB 2.8MB/s eta 0:00:01\r\u001b[K     |███████▍                        | 225kB 2.8MB/s eta 0:00:01\r\u001b[K     |███████▊                        | 235kB 2.8MB/s eta 0:00:01\r\u001b[K     |████████                        | 245kB 2.8MB/s eta 0:00:01\r\u001b[K     |████████▍                       | 256kB 2.8MB/s eta 0:00:01\r\u001b[K     |████████▊                       | 266kB 2.8MB/s eta 0:00:01\r\u001b[K     |█████████                       | 276kB 2.8MB/s eta 0:00:01\r\u001b[K     |█████████▍                      | 286kB 2.8MB/s eta 0:00:01\r\u001b[K     |█████████▊                      | 296kB 2.8MB/s eta 0:00:01\r\u001b[K     |██████████                      | 307kB 2.8MB/s eta 0:00:01\r\u001b[K     |██████████▍                     | 317kB 2.8MB/s eta 0:00:01\r\u001b[K     |██████████▊                     | 327kB 2.8MB/s eta 0:00:01\r\u001b[K     |███████████                     | 337kB 2.8MB/s eta 0:00:01\r\u001b[K     |███████████▍                    | 348kB 2.8MB/s eta 0:00:01\r\u001b[K     |███████████▊                    | 358kB 2.8MB/s eta 0:00:01\r\u001b[K     |████████████                    | 368kB 2.8MB/s eta 0:00:01\r\u001b[K     |████████████▍                   | 378kB 2.8MB/s eta 0:00:01\r\u001b[K     |████████████▊                   | 389kB 2.8MB/s eta 0:00:01\r\u001b[K     |█████████████                   | 399kB 2.8MB/s eta 0:00:01\r\u001b[K     |█████████████▍                  | 409kB 2.8MB/s eta 0:00:01\r\u001b[K     |█████████████▊                  | 419kB 2.8MB/s eta 0:00:01\r\u001b[K     |██████████████                  | 430kB 2.8MB/s eta 0:00:01\r\u001b[K     |██████████████▍                 | 440kB 2.8MB/s eta 0:00:01\r\u001b[K     |██████████████▊                 | 450kB 2.8MB/s eta 0:00:01\r\u001b[K     |███████████████                 | 460kB 2.8MB/s eta 0:00:01\r\u001b[K     |███████████████▍                | 471kB 2.8MB/s eta 0:00:01\r\u001b[K     |███████████████▊                | 481kB 2.8MB/s eta 0:00:01\r\u001b[K     |████████████████                | 491kB 2.8MB/s eta 0:00:01\r\u001b[K     |████████████████▍               | 501kB 2.8MB/s eta 0:00:01\r\u001b[K     |████████████████▉               | 512kB 2.8MB/s eta 0:00:01\r\u001b[K     |█████████████████▏              | 522kB 2.8MB/s eta 0:00:01\r\u001b[K     |█████████████████▌              | 532kB 2.8MB/s eta 0:00:01\r\u001b[K     |█████████████████▉              | 542kB 2.8MB/s eta 0:00:01\r\u001b[K     |██████████████████▏             | 552kB 2.8MB/s eta 0:00:01\r\u001b[K     |██████████████████▌             | 563kB 2.8MB/s eta 0:00:01\r\u001b[K     |██████████████████▉             | 573kB 2.8MB/s eta 0:00:01\r\u001b[K     |███████████████████▏            | 583kB 2.8MB/s eta 0:00:01\r\u001b[K     |███████████████████▌            | 593kB 2.8MB/s eta 0:00:01\r\u001b[K     |███████████████████▉            | 604kB 2.8MB/s eta 0:00:01\r\u001b[K     |████████████████████▏           | 614kB 2.8MB/s eta 0:00:01\r\u001b[K     |████████████████████▌           | 624kB 2.8MB/s eta 0:00:01\r\u001b[K     |████████████████████▉           | 634kB 2.8MB/s eta 0:00:01\r\u001b[K     |█████████████████████▏          | 645kB 2.8MB/s eta 0:00:01\r\u001b[K     |█████████████████████▌          | 655kB 2.8MB/s eta 0:00:01\r\u001b[K     |█████████████████████▉          | 665kB 2.8MB/s eta 0:00:01\r\u001b[K     |██████████████████████▏         | 675kB 2.8MB/s eta 0:00:01\r\u001b[K     |██████████████████████▌         | 686kB 2.8MB/s eta 0:00:01\r\u001b[K     |██████████████████████▉         | 696kB 2.8MB/s eta 0:00:01\r\u001b[K     |███████████████████████▏        | 706kB 2.8MB/s eta 0:00:01\r\u001b[K     |███████████████████████▌        | 716kB 2.8MB/s eta 0:00:01\r\u001b[K     |███████████████████████▉        | 727kB 2.8MB/s eta 0:00:01\r\u001b[K     |████████████████████████▏       | 737kB 2.8MB/s eta 0:00:01\r\u001b[K     |████████████████████████▌       | 747kB 2.8MB/s eta 0:00:01\r\u001b[K     |████████████████████████▉       | 757kB 2.8MB/s eta 0:00:01\r\u001b[K     |█████████████████████████▏      | 768kB 2.8MB/s eta 0:00:01\r\u001b[K     |█████████████████████████▌      | 778kB 2.8MB/s eta 0:00:01\r\u001b[K     |█████████████████████████▉      | 788kB 2.8MB/s eta 0:00:01\r\u001b[K     |██████████████████████████▏     | 798kB 2.8MB/s eta 0:00:01\r\u001b[K     |██████████████████████████▌     | 808kB 2.8MB/s eta 0:00:01\r\u001b[K     |██████████████████████████▉     | 819kB 2.8MB/s eta 0:00:01\r\u001b[K     |███████████████████████████▏    | 829kB 2.8MB/s eta 0:00:01\r\u001b[K     |███████████████████████████▌    | 839kB 2.8MB/s eta 0:00:01\r\u001b[K     |███████████████████████████▉    | 849kB 2.8MB/s eta 0:00:01\r\u001b[K     |████████████████████████████▏   | 860kB 2.8MB/s eta 0:00:01\r\u001b[K     |████████████████████████████▌   | 870kB 2.8MB/s eta 0:00:01\r\u001b[K     |████████████████████████████▉   | 880kB 2.8MB/s eta 0:00:01\r\u001b[K     |█████████████████████████████▏  | 890kB 2.8MB/s eta 0:00:01\r\u001b[K     |█████████████████████████████▌  | 901kB 2.8MB/s eta 0:00:01\r\u001b[K     |█████████████████████████████▉  | 911kB 2.8MB/s eta 0:00:01\r\u001b[K     |██████████████████████████████▏ | 921kB 2.8MB/s eta 0:00:01\r\u001b[K     |██████████████████████████████▌ | 931kB 2.8MB/s eta 0:00:01\r\u001b[K     |██████████████████████████████▉ | 942kB 2.8MB/s eta 0:00:01\r\u001b[K     |███████████████████████████████▏| 952kB 2.8MB/s eta 0:00:01\r\u001b[K     |███████████████████████████████▌| 962kB 2.8MB/s eta 0:00:01\r\u001b[K     |███████████████████████████████▉| 972kB 2.8MB/s eta 0:00:01\r\u001b[K     |████████████████████████████████| 983kB 2.8MB/s \n",
            "\u001b[?25hCollecting ml_datasets\n",
            "  Downloading https://files.pythonhosted.org/packages/e1/cd/f20a0996f2a893cf7940ccda5fae85b3f260329d0db63141ea55243b9538/ml_datasets-0.1.6.tar.gz\n",
            "Collecting tqdm>=4.41\n",
            "\u001b[?25l  Downloading https://files.pythonhosted.org/packages/cc/2e/4307206db63f05ed37e21d4c0d843d0fbcacd62479f8ce99ba0f2c0875e0/tqdm-4.42.0-py2.py3-none-any.whl (59kB)\n",
            "\u001b[K     |████████████████████████████████| 61kB 8.8MB/s \n",
            "\u001b[?25hCollecting contextvars<3,>=2.4; python_version < \"3.7\"\n",
            "  Downloading https://files.pythonhosted.org/packages/83/96/55b82d9f13763be9d672622e1b8106c85acb83edd7cc2fa5bc67cd9877e9/contextvars-2.4.tar.gz\n",
            "Collecting pydantic<2.0.0,>=1.4.0\n",
            "\u001b[?25l  Downloading https://files.pythonhosted.org/packages/be/9a/a2d9613a70051615a84df6e9d697aad9787ba978bdeb4ad46c754457b3e1/pydantic-1.4-cp36-cp36m-manylinux2010_x86_64.whl (7.5MB)\n",
            "\u001b[K     |████████████████████████████████| 7.5MB 43.1MB/s \n",
            "\u001b[?25hCollecting srsly<3.0.0,>=2.0.0\n",
            "\u001b[?25l  Downloading https://files.pythonhosted.org/packages/a5/ff/0ed98f94298d5665e18879f82548406239c96805fe9102a81dfe7c1770a5/srsly-2.0.0-cp36-cp36m-manylinux1_x86_64.whl (311kB)\n",
            "\u001b[K     |████████████████████████████████| 317kB 56.6MB/s \n",
            "\u001b[?25hRequirement already satisfied: dataclasses<1.0,>=0.6; python_version < \"3.7\" in /usr/local/lib/python3.6/dist-packages (from thinc>=8.0.0a0) (0.7)\n",
            "Collecting preshed<3.1.0,>=3.0.2\n",
            "\u001b[?25l  Downloading https://files.pythonhosted.org/packages/db/6b/e07fad36913879757c90ba03d6fb7f406f7279e11dcefc105ee562de63ea/preshed-3.0.2-cp36-cp36m-manylinux1_x86_64.whl (119kB)\n",
            "\u001b[K     |████████████████████████████████| 122kB 62.1MB/s \n",
            "\u001b[?25hRequirement already satisfied: wasabi<1.1.0,>=0.4.0 in /usr/local/lib/python3.6/dist-packages (from thinc>=8.0.0a0) (0.6.0)\n",
            "Requirement already satisfied: cymem<2.1.0,>=2.0.2 in /usr/local/lib/python3.6/dist-packages (from thinc>=8.0.0a0) (2.0.3)\n",
            "Requirement already satisfied: murmurhash<1.1.0,>=0.28.0 in /usr/local/lib/python3.6/dist-packages (from thinc>=8.0.0a0) (1.0.2)\n",
            "Requirement already satisfied: setuptools in /usr/local/lib/python3.6/dist-packages (from thinc>=8.0.0a0) (42.0.2)\n",
            "Requirement already satisfied: numpy>=1.7.0 in /usr/local/lib/python3.6/dist-packages (from thinc>=8.0.0a0) (1.17.5)\n",
            "Collecting typing-extensions<4.0.0.0,>=3.7.4.1; python_version < \"3.8\"\n",
            "  Downloading https://files.pythonhosted.org/packages/03/92/705fe8aca27678e01bbdd7738173b8e7df0088a2202c80352f664630d638/typing_extensions-3.7.4.1-py3-none-any.whl\n",
            "Collecting catalogue<3.0.0,>=0.2.0\n",
            "  Downloading https://files.pythonhosted.org/packages/e3/8e/9391f722c58dc202cb7980a3a1f0e2499cc91e1fbda2c17632dad1b6e299/catalogue-2.0.0-py3-none-any.whl\n",
            "Collecting immutables>=0.9\n",
            "\u001b[?25l  Downloading https://files.pythonhosted.org/packages/62/cc/3961b18a1a689a7e3232d923a8546cb901c49b4a33be6987c03a89175c4f/immutables-0.11-cp36-cp36m-manylinux1_x86_64.whl (92kB)\n",
            "\u001b[K     |████████████████████████████████| 102kB 11.8MB/s \n",
            "\u001b[?25hRequirement already satisfied: importlib-metadata>=0.20; python_version < \"3.8\" in /usr/local/lib/python3.6/dist-packages (from catalogue<3.0.0,>=0.2.0->thinc>=8.0.0a0) (1.4.0)\n",
            "Requirement already satisfied: zipp>=0.5 in /usr/local/lib/python3.6/dist-packages (from importlib-metadata>=0.20; python_version < \"3.8\"->catalogue<3.0.0,>=0.2.0->thinc>=8.0.0a0) (1.0.0)\n",
            "Requirement already satisfied: more-itertools in /usr/local/lib/python3.6/dist-packages (from zipp>=0.5->importlib-metadata>=0.20; python_version < \"3.8\"->catalogue<3.0.0,>=0.2.0->thinc>=8.0.0a0) (8.0.2)\n",
            "Building wheels for collected packages: ml-datasets, contextvars\n",
            "  Building wheel for ml-datasets (setup.py) ... \u001b[?25l\u001b[?25hdone\n",
            "  Created wheel for ml-datasets: filename=ml_datasets-0.1.6-cp36-none-any.whl size=11254 sha256=ecb148e6f45ce1c0b533720957256b5e2da0aa3c3d37f215de3f754285072744\n",
            "  Stored in directory: /root/.cache/pip/wheels/65/7e/0a/cfdafbe78376650e749a8c05db121e3e50943485d5bd2c131a\n",
            "  Building wheel for contextvars (setup.py) ... \u001b[?25l\u001b[?25hdone\n",
            "  Created wheel for contextvars: filename=contextvars-2.4-cp36-none-any.whl size=7668 sha256=097277f41a2e586bb08ac6fd77b43baff45fe0a15742a8b02439ff6795253454\n",
            "  Stored in directory: /root/.cache/pip/wheels/a5/7d/68/1ebae2668bda2228686e3c1cf16f2c2384cea6e9334ad5f6de\n",
            "Successfully built ml-datasets contextvars\n",
            "\u001b[31mERROR: spacy 2.1.9 has requirement preshed<2.1.0,>=2.0.1, but you'll have preshed 3.0.2 which is incompatible.\u001b[0m\n",
            "\u001b[31mERROR: spacy 2.1.9 has requirement srsly<1.1.0,>=0.0.6, but you'll have srsly 2.0.0 which is incompatible.\u001b[0m\n",
            "\u001b[31mERROR: spacy 2.1.9 has requirement thinc<7.1.0,>=7.0.8, but you'll have thinc 8.0.0a0 which is incompatible.\u001b[0m\n",
            "\u001b[31mERROR: chainer 6.5.0 has requirement typing-extensions<=3.6.6, but you'll have typing-extensions 3.7.4.1 which is incompatible.\u001b[0m\n",
            "Installing collected packages: immutables, contextvars, pydantic, srsly, preshed, typing-extensions, catalogue, thinc, tqdm, ml-datasets\n",
            "  Found existing installation: srsly 1.0.1\n",
            "    Uninstalling srsly-1.0.1:\n",
            "      Successfully uninstalled srsly-1.0.1\n",
            "  Found existing installation: preshed 2.0.1\n",
            "    Uninstalling preshed-2.0.1:\n",
            "      Successfully uninstalled preshed-2.0.1\n",
            "  Found existing installation: typing-extensions 3.6.6\n",
            "    Uninstalling typing-extensions-3.6.6:\n",
            "      Successfully uninstalled typing-extensions-3.6.6\n",
            "  Found existing installation: thinc 7.0.8\n",
            "    Uninstalling thinc-7.0.8:\n",
            "      Successfully uninstalled thinc-7.0.8\n",
            "  Found existing installation: tqdm 4.28.1\n",
            "    Uninstalling tqdm-4.28.1:\n",
            "      Successfully uninstalled tqdm-4.28.1\n",
            "Successfully installed catalogue-2.0.0 contextvars-2.4 immutables-0.11 ml-datasets-0.1.6 preshed-3.0.2 pydantic-1.4 srsly-2.0.0 thinc-8.0.0a0 tqdm-4.42.0 typing-extensions-3.7.4.1\n"
          ],
          "name": "stdout"
        },
        {
          "output_type": "display_data",
          "data": {
            "application/vnd.colab-display-data+json": {
              "pip_warning": {
                "packages": [
                  "tqdm"
                ]
              }
            }
          },
          "metadata": {
            "tags": []
          }
        }
      ]
    },
    {
      "cell_type": "markdown",
      "metadata": {
        "id": "uBPIWGzV78Nd",
        "colab_type": "text"
      },
      "source": [
        "First, let's use Thinc's `prefer_gpu` helper to make sure we're performing operations **on GPU if available**. The function should be called right after importing Thinc, and it returns a boolean indicating whether the GPU has been activated."
      ]
    },
    {
      "cell_type": "code",
      "metadata": {
        "id": "OX-Duc7078Nf",
        "colab_type": "code",
        "colab": {}
      },
      "source": [
        "from thinc.api import prefer_gpu\n",
        "prefer_gpu()"
      ],
      "execution_count": 0,
      "outputs": []
    },
    {
      "cell_type": "markdown",
      "metadata": {
        "id": "a3-6l3Vv78Nn",
        "colab_type": "text"
      },
      "source": [
        "We’ve prepared a separate package [`ml-datasets`](https://github.com/explosion/ml-datasets) with loaders for some common datasets, including MNIST. So we can set up the data as follows:"
      ]
    },
    {
      "cell_type": "code",
      "metadata": {
        "id": "y6lP9-d778Nq",
        "colab_type": "code",
        "colab": {}
      },
      "source": [
        "import ml_datasets\n",
        "(train_X, train_Y), (dev_X, dev_Y) = ml_datasets.mnist()\n",
        "print(f\"Training size={len(train_X)}, dev size={len(dev_X)}\")"
      ],
      "execution_count": 0,
      "outputs": []
    },
    {
      "cell_type": "markdown",
      "metadata": {
        "id": "f-TZi4_G78Ny",
        "colab_type": "text"
      },
      "source": [
        "Now let’s define a model with two **ReLu-activated hidden layers**, followed by a **softmax-activated output layer**. We’ll also add **dropout** after the two hidden layers, to help the model generalize better. The `chain` combinator is like `Sequential` in PyTorch or Keras: it combines a list of layers together with a feed-forward relationship."
      ]
    },
    {
      "cell_type": "code",
      "metadata": {
        "id": "JEFqtVPT78N4",
        "colab_type": "code",
        "colab": {}
      },
      "source": [
        "from thinc.api import chain, ReLu, Softmax\n",
        " \n",
        "n_hidden = 32\n",
        "dropout = 0.2\n",
        "\n",
        "model = chain(\n",
        "    ReLu(nO=n_hidden, dropout=dropout), \n",
        "    ReLu(nO=n_hidden, dropout=dropout), \n",
        "    Softmax()\n",
        ")"
      ],
      "execution_count": 0,
      "outputs": []
    },
    {
      "cell_type": "markdown",
      "metadata": {
        "id": "Ks-pWUZi78OC",
        "colab_type": "text"
      },
      "source": [
        "After creating the model, we can call the `Model.initialize` method, passing in a small batch of input data `X` and a small batch of output data `Y`. This allows Thinc to **infer the missing dimensions**: when we defined the model, we didn’t tell it the input size `nI` or the output size `nO`. When passing in the data, make sure it is on the right device by calling `model.ops.asarray` which will e.g. transform the arrays to `cupy` when running on GPU."
      ]
    },
    {
      "cell_type": "code",
      "metadata": {
        "id": "jvxf4nRy78OE",
        "colab_type": "code",
        "colab": {}
      },
      "source": [
        "# making sure the data is on the right device\n",
        "train_X = model.ops.asarray(train_X)\n",
        "train_Y = model.ops.asarray(train_Y)\n",
        "dev_X = model.ops.asarray(dev_X)\n",
        "dev_Y = model.ops.asarray(dev_Y)\n",
        "\n",
        "model.initialize(X=train_X[:5], Y=train_Y[:5])\n",
        "nI = model.get_dim(\"nI\")\n",
        "nO = model.get_dim(\"nO\")\n",
        "print(f\"Initialized model with input dimension nI={nI} and output dimension nO={nO}\")"
      ],
      "execution_count": 0,
      "outputs": []
    },
    {
      "cell_type": "markdown",
      "metadata": {
        "id": "kUxKILyS78ON",
        "colab_type": "text"
      },
      "source": [
        "Next we need to create an **optimizer**, and make several passes over the data, randomly selecting paired batches of the inputs and labels each time. While some machine learning libraries provide a single `.fit()` method to train a model all at once, Thinc puts you in charge of **shuffling and batching your data**, with the help of a few handy utility methods. `model.ops.xp` is an instance of either `numpy` or `cupy`, depending on whether you run the code on CPU or GPU."
      ]
    },
    {
      "cell_type": "code",
      "metadata": {
        "id": "IMSa45fu78OP",
        "colab_type": "code",
        "colab": {}
      },
      "source": [
        "from thinc.api import Adam, fix_random_seed\n",
        "from tqdm.notebook import tqdm\n",
        "\n",
        "fix_random_seed(0)\n",
        "optimizer = Adam(0.001)\n",
        "batch_size = 128\n",
        "print(\"Measuring performance across iterations:\")\n",
        "\n",
        "for i in range(10):\n",
        "    batches = model.ops.multibatch(batch_size, train_X, train_Y, shuffle=True)\n",
        "    for X, Y in tqdm(batches, leave=False):\n",
        "        Yh, backprop = model.begin_update(X)\n",
        "        backprop(Yh - Y)\n",
        "        model.finish_update(optimizer)\n",
        "    # Evaluate and print progress\n",
        "    correct = 0\n",
        "    total = 0\n",
        "    for X, Y in model.ops.multibatch(batch_size, dev_X, dev_Y):\n",
        "        Yh = model.predict(X)\n",
        "        correct += (Yh.argmax(axis=1) == Y.argmax(axis=1)).sum()\n",
        "        total += Yh.shape[0]\n",
        "    score = correct / total\n",
        "    print(f\" {i} {float(score):.3f}\")"
      ],
      "execution_count": 0,
      "outputs": []
    },
    {
      "cell_type": "markdown",
      "metadata": {
        "id": "A9tInrgt78OW",
        "colab_type": "text"
      },
      "source": [
        "Let's wrap the training code in a function, so we can reuse it later:"
      ]
    },
    {
      "cell_type": "code",
      "metadata": {
        "id": "K8BzYdgK78OY",
        "colab_type": "code",
        "colab": {}
      },
      "source": [
        "def train_model(data, model, optimizer, n_iter, batch_size):\n",
        "    (train_X, train_Y), (dev_X, dev_Y) = data\n",
        "    indices = model.ops.xp.arange(train_X.shape[0], dtype=\"i\")\n",
        "    for i in range(n_iter):\n",
        "        batches = model.ops.multibatch(batch_size, train_X, train_Y, shuffle=True)\n",
        "        for X, Y in tqdm(batches, leave=False):\n",
        "            Yh, backprop = model.begin_update(X)\n",
        "            backprop(Yh - Y)\n",
        "            model.finish_update(optimizer)\n",
        "        # Evaluate and print progress\n",
        "        correct = 0\n",
        "        total = 0\n",
        "        for X, Y in model.ops.multibatch(batch_size, dev_X, dev_Y):\n",
        "            Yh = model.predict(X)\n",
        "            correct += (Yh.argmax(axis=1) == Y.argmax(axis=1)).sum()\n",
        "            total += Yh.shape[0]\n",
        "        score = correct / total\n",
        "        print(f\" {i} {float(score):.3f}\")"
      ],
      "execution_count": 0,
      "outputs": []
    },
    {
      "cell_type": "markdown",
      "metadata": {
        "id": "EDJpFtKL78Oe",
        "colab_type": "text"
      },
      "source": [
        "### Operator overloading for more concise model definitions\n",
        "\n",
        "Thinc allows you to **overload operators** and bind arbitrary functions to Python operators like `+`, `*`, but also `>>` or `@`. The `Model.define_operators` contextmanager takes a dict of operators mapped to functions – typically combinators like `chain`. The operators are only valid for the `with` block. This lets us define the model like this:"
      ]
    },
    {
      "cell_type": "code",
      "metadata": {
        "id": "OWZFeofb78Oh",
        "colab_type": "code",
        "colab": {}
      },
      "source": [
        "from thinc.api import Model, chain, ReLu, Softmax\n",
        " \n",
        "n_hidden = 32\n",
        "dropout = 0.2\n",
        "\n",
        "with Model.define_operators({\">>\": chain}):\n",
        "    model = ReLu(nO=n_hidden, dropout=dropout) >> ReLu(nO=n_hidden, dropout=dropout) >> Softmax()"
      ],
      "execution_count": 0,
      "outputs": []
    },
    {
      "cell_type": "markdown",
      "metadata": {
        "id": "4sA-2VaS78Oo",
        "colab_type": "text"
      },
      "source": [
        "If your model definitions are very complex, mapping combinators to operators can help you keep the code readable and concise. You can find more examples of model definitions with overloaded operators [in the docs](https://thinc.ai/docs). (Also note that you don't _have to_ use this syntax!)"
      ]
    },
    {
      "cell_type": "markdown",
      "metadata": {
        "id": "urfu68hw78Oq",
        "colab_type": "text"
      },
      "source": [
        "---\n",
        "\n",
        "## Using config files\n",
        "\n",
        "Configuration is a huge problem for machine learning code, because you may want to expose almost any detail of any function as a hyperparameter. The setting you want to expose might be arbitrarily far down in your call stack. Default values also become hard to change without breaking backwards compatibility.\n",
        "\n",
        "To solve this problem, Thinc provides a config system that lets you easily describe **arbitrary trees of objects**. The objects can be created via function calls you register using a simple decorator syntax. The config can include values like hyperparameters or training settings (whatever you need), or references to functions and the values of their arguments. Thinc will then construct the config **bottom-up** – so you can define one function with its arguments, and then pass the return value into another function.\n",
        "\n",
        "> 💡 You can keep the config as a string in your Python script, or save it to a file like `config.cfg`. To load a config from a string, you can use `Config.from_str`. To load from a file, you can use `Config.from_disk`. The following examples all use strings so we can include them in the notebook."
      ]
    },
    {
      "cell_type": "code",
      "metadata": {
        "id": "IhlxG-kl78Os",
        "colab_type": "code",
        "colab": {}
      },
      "source": [
        "from thinc.api import Config, registry\n",
        "\n",
        "EXAMPLE_CONFIG1 = \"\"\"\n",
        "[hyper_params]\n",
        "learn_rate = 0.001\n",
        "\n",
        "[optimizer]\n",
        "@optimizers = \"Adam.v1\"\n",
        "learn_rate = ${hyper_params:learn_rate}\n",
        "\"\"\"\n",
        "\n",
        "config1 = Config().from_str(EXAMPLE_CONFIG1)\n",
        "config1"
      ],
      "execution_count": 0,
      "outputs": []
    },
    {
      "cell_type": "markdown",
      "metadata": {
        "id": "4qQW859278O5",
        "colab_type": "text"
      },
      "source": [
        "When you open the config with `Config.from_str`, Thinc will parse it as a dict and fill in the references to values defined in other sections. For example, `${hyper_params:learn_rate}` is substituted with `0.001`. \n",
        "\n",
        "Keys starting with `@` are references to **registered functions**. For example, `@optimizers = \"Adam.v1\"` refers to the function registered under the name `\"Adam.v1\"`, a function creating an Adam optimizer. The function takes one argument, the `learn_rate`. Calling `registry.make_from_config` will resolve the config and create the functions it defines."
      ]
    },
    {
      "cell_type": "code",
      "metadata": {
        "id": "DzT46_Hz78O7",
        "colab_type": "code",
        "colab": {}
      },
      "source": [
        "loaded_config1 = registry.make_from_config(config1)\n",
        "loaded_config1"
      ],
      "execution_count": 0,
      "outputs": []
    },
    {
      "cell_type": "markdown",
      "metadata": {
        "id": "FB0DffC-78PC",
        "colab_type": "text"
      },
      "source": [
        "If function arguments are missing or have incompatible types, Thinc will raise an error and tell you what's wrong. Configs can also define **nested blocks** using the `.` notation. In this example, `optimizer.learn_rate` defines the `learn_rate` argument of the `optimizer` block. Instead of a float, the learning rate can also be a generator – for instance, a linear warm-up rate:"
      ]
    },
    {
      "cell_type": "code",
      "metadata": {
        "id": "7GLhaWAU78PE",
        "colab_type": "code",
        "colab": {}
      },
      "source": [
        "EXAMPLE_CONFIG2 = \"\"\"\n",
        "[optimizer]\n",
        "@optimizers = \"Adam.v1\"\n",
        "\n",
        "[optimizer.learn_rate]\n",
        "@schedules = \"warmup_linear.v1\"\n",
        "initial_rate = 2e-5\n",
        "warmup_steps = 1000\n",
        "total_steps = 10000\n",
        "\"\"\"\n",
        "\n",
        "config2 = Config().from_str(EXAMPLE_CONFIG2)\n",
        "config2"
      ],
      "execution_count": 0,
      "outputs": []
    },
    {
      "cell_type": "markdown",
      "metadata": {
        "id": "fWX7zHew78PL",
        "colab_type": "text"
      },
      "source": [
        "Calling `registry.make_from_config` will now construct the objects bottom-up: first, it will create the schedule with the given arguments. Next, it will create the optimizer and pass in the schedule as the `learn_rate` argument."
      ]
    },
    {
      "cell_type": "code",
      "metadata": {
        "id": "d7nJPwdy78PN",
        "colab_type": "code",
        "colab": {}
      },
      "source": [
        "loaded_config2 = registry.make_from_config(config2)\n",
        "loaded_config2"
      ],
      "execution_count": 0,
      "outputs": []
    },
    {
      "cell_type": "markdown",
      "metadata": {
        "id": "QV_UB_yf78PV",
        "colab_type": "text"
      },
      "source": [
        "This gives you a loaded optimizer using the settings defined in the config, which you can then use in your script. How you set up your config and what you do with the result is **entirely up to you**. Thinc just gives you a dictionary of objects back and makes no assumptions about what they _\"mean\"_. This means that you can also choose the names of the config sections – the only thing that needs to stay consistent are the names of the function arguments."
      ]
    },
    {
      "cell_type": "markdown",
      "metadata": {
        "id": "CqXkqy3n78PW",
        "colab_type": "text"
      },
      "source": [
        "### Configuring the MNIST model\n",
        "\n",
        "Here's a config describing the model we defined above. The values in the `hyper_params` section can be referenced in other sections to keep them consistent. The `*` is used for **positional arguments** – in this case, the arguments to the `chain` function, two ReLu layers and one softmax layer."
      ]
    },
    {
      "cell_type": "code",
      "metadata": {
        "id": "9Es1AdEs78PZ",
        "colab_type": "code",
        "colab": {}
      },
      "source": [
        "CONFIG = \"\"\"\n",
        "[hyper_params]\n",
        "n_hidden = 32\n",
        "dropout = 0.2\n",
        "learn_rate = 0.001\n",
        "\n",
        "[model]\n",
        "@layers = \"chain.v1\"\n",
        "\n",
        "[model.*.relu1]\n",
        "@layers = \"ReLu.v1\"\n",
        "nO = ${hyper_params:n_hidden}\n",
        "dropout = ${hyper_params:dropout}\n",
        "\n",
        "[model.*.relu2]\n",
        "@layers = \"ReLu.v1\"\n",
        "nO = ${hyper_params:n_hidden}\n",
        "dropout = ${hyper_params:dropout}\n",
        "\n",
        "[model.*.softmax]\n",
        "@layers = \"Softmax.v1\"\n",
        "\n",
        "[optimizer]\n",
        "@optimizers = \"Adam.v1\"\n",
        "learn_rate = ${hyper_params:learn_rate}\n",
        "\n",
        "[training]\n",
        "n_iter = 10\n",
        "batch_size = 128\n",
        "\"\"\"\n",
        "\n",
        "config = Config().from_str(CONFIG)\n",
        "config"
      ],
      "execution_count": 0,
      "outputs": []
    },
    {
      "cell_type": "code",
      "metadata": {
        "id": "l2KDZNY078Pf",
        "colab_type": "code",
        "colab": {}
      },
      "source": [
        "loaded_config = registry.make_from_config(config)\n",
        "loaded_config"
      ],
      "execution_count": 0,
      "outputs": []
    },
    {
      "cell_type": "markdown",
      "metadata": {
        "id": "w_YCrHAN78Pl",
        "colab_type": "text"
      },
      "source": [
        "When you call `registry.make_from_config`, Thinc will first create the three layers using the specified arguments populated by the hyperparameters. It will then pass the return values (the layer objects) to `chain`. It will also create an optimizer. All other values, like the training config, will be passed through as a regular dict. Your training code can now look like this:"
      ]
    },
    {
      "cell_type": "code",
      "metadata": {
        "id": "3na1QXta78Pn",
        "colab_type": "code",
        "colab": {}
      },
      "source": [
        "model = loaded_config[\"model\"]\n",
        "optimizer = loaded_config[\"optimizer\"]\n",
        "n_iter = loaded_config[\"training\"][\"n_iter\"]\n",
        "batch_size = loaded_config[\"training\"][\"batch_size\"]\n",
        "\n",
        "model.initialize(X=train_X[:5], Y=train_Y[:5])\n",
        "train_model(((train_X, train_Y), (dev_X, dev_Y)), model, optimizer, n_iter, batch_size)"
      ],
      "execution_count": 0,
      "outputs": []
    },
    {
      "cell_type": "markdown",
      "metadata": {
        "id": "eWaUiEF878Pw",
        "colab_type": "text"
      },
      "source": [
        "If you want to change a hyperparamter or experiment with a different optimizer, all you need to change is the config. For each experiment you run, you can save a config and you'll be able to reproduce it later."
      ]
    },
    {
      "cell_type": "markdown",
      "metadata": {
        "id": "ivjto45b78Pz",
        "colab_type": "text"
      },
      "source": [
        "---\n",
        "\n",
        "## Programming via config vs. registering custom functions\n",
        "\n",
        "The config system is very powerful and lets you define complex relationships, including model definitions with levels of nested layers. However, it's not always a good idea to program entirely in your config – this just replaces one problem (messy and hard to maintain code) with another one (messy and hard to maintain configs). So ultimately, it's about finding the **best possible trade-off**.\n",
        "\n",
        "If you've written a layer or model definition you're happy with, you can use Thinc's function registry to register it and assign it a string name. Your function can take any arguments that can later be defined in the config. Adding **type hints** ensures that config settings will be **parsed and validated** before they're passed into the function, so you don't end up with incompatible settings and confusing failures later on. Here's the MNIST model, defined as a custom layer:"
      ]
    },
    {
      "cell_type": "code",
      "metadata": {
        "id": "Ipm195I578P2",
        "colab_type": "code",
        "colab": {}
      },
      "source": [
        "import thinc\n",
        "\n",
        "@thinc.registry.layers(\"MNIST.v1\")\n",
        "def create_mnist(nO: int, dropout: float):\n",
        "    return chain(\n",
        "        ReLu(nO, dropout=dropout), \n",
        "        ReLu(nO, dropout=dropout), \n",
        "        Softmax()\n",
        "    )"
      ],
      "execution_count": 0,
      "outputs": []
    },
    {
      "cell_type": "markdown",
      "metadata": {
        "id": "hflna9me78P-",
        "colab_type": "text"
      },
      "source": [
        "In the config, we can now refer to it by name and set its arguments. This makes the config maintainable and compact, while still allowing you to change and record the hyperparameters."
      ]
    },
    {
      "cell_type": "code",
      "metadata": {
        "id": "lBrOBVba78QA",
        "colab_type": "code",
        "colab": {}
      },
      "source": [
        "CONFIG2 = \"\"\"\n",
        "[model]\n",
        "@layers = \"MNIST.v1\"\n",
        "nO = 32\n",
        "dropout = 0.2\n",
        "\n",
        "[optimizer]\n",
        "@optimizers = \"Adam.v1\"\n",
        "learn_rate = 0.001\n",
        "\n",
        "[training]\n",
        "n_iter = 10\n",
        "batch_size = 128\n",
        "\"\"\"\n",
        "\n",
        "config = Config().from_str(CONFIG2)\n",
        "config"
      ],
      "execution_count": 0,
      "outputs": []
    },
    {
      "cell_type": "code",
      "metadata": {
        "id": "-KMEF2at78QG",
        "colab_type": "code",
        "colab": {}
      },
      "source": [
        "loaded_config = registry.make_from_config(config)\n",
        "loaded_config"
      ],
      "execution_count": 0,
      "outputs": []
    },
    {
      "cell_type": "markdown",
      "metadata": {
        "id": "ok8jlZ7578QL",
        "colab_type": "text"
      },
      "source": [
        "If you don't want to hard-code the dataset being used, you can also wrap it in a registry function. This lets you refer to it by name in the config, and makes it easy to swap it out. In your config, you can then load the data in its own section, or as a subsection of `training`."
      ]
    },
    {
      "cell_type": "code",
      "metadata": {
        "id": "s61MHJPU78QN",
        "colab_type": "code",
        "colab": {}
      },
      "source": [
        "@thinc.registry.datasets(\"mnist_data.v1\")\n",
        "def mnist():\n",
        "    return ml_datasets.mnist()"
      ],
      "execution_count": 0,
      "outputs": []
    },
    {
      "cell_type": "code",
      "metadata": {
        "id": "8H239J4578QU",
        "colab_type": "code",
        "colab": {}
      },
      "source": [
        "CONFIG3 = \"\"\"\n",
        "[model]\n",
        "@layers = \"MNIST.v1\"\n",
        "nO = 32\n",
        "dropout = 0.2\n",
        "\n",
        "[optimizer]\n",
        "@optimizers = \"Adam.v1\"\n",
        "learn_rate = 0.001\n",
        "\n",
        "[training]\n",
        "n_iter = 10\n",
        "batch_size = 128\n",
        "\n",
        "[training.data]\n",
        "@datasets = \"mnist_data.v1\"\n",
        "\"\"\"\n",
        "\n",
        "config = Config().from_str(CONFIG3)\n",
        "loaded_config = registry.make_from_config(config)\n",
        "loaded_config"
      ],
      "execution_count": 0,
      "outputs": []
    },
    {
      "cell_type": "code",
      "metadata": {
        "id": "89RF2FGc78Qc",
        "colab_type": "code",
        "colab": {}
      },
      "source": [
        "model = loaded_config[\"model\"]\n",
        "optimizer = loaded_config[\"optimizer\"]\n",
        "n_iter = loaded_config[\"training\"][\"n_iter\"]\n",
        "batch_size = loaded_config[\"training\"][\"batch_size\"]\n",
        "(train_X, train_Y), (dev_X, dev_Y) = loaded_config[\"training\"][\"data\"]\n",
        "\n",
        "model.initialize(X=train_X[:5], Y=train_Y[:5])\n",
        "train_model(((train_X, train_Y), (dev_X, dev_Y)), model, optimizer, n_iter, batch_size)"
      ],
      "execution_count": 0,
      "outputs": []
    },
    {
      "cell_type": "markdown",
      "metadata": {
        "id": "Is4Q1hjO78Qi",
        "colab_type": "text"
      },
      "source": [
        "---\n",
        "\n",
        "## Wrapping TensorFlow, PyTorch and MXNet models\n",
        "\n",
        "The previous example showed how to define the model directly in Thinc, which is pretty straightforward. But you can also define your model using a **machine learning library of your choice** and wrap it as a Thinc model. This gives your layers a unified interface so you can easily mix and match them, and also lets you take advantage of the config system and type hints. Thinc currently ships with built-in wrappers for [PyTorch](https://pytorch.org), [TensorFlow](https://tensorflow.org) and [MXNet](https://mxnet.apache.org/)."
      ]
    },
    {
      "cell_type": "markdown",
      "metadata": {
        "id": "qZFfq-gR78Qk",
        "colab_type": "text"
      },
      "source": [
        "### Wrapping TensorFlow models\n",
        "\n",
        "Here's the same model definition in TensorFlow: a `Sequential` layer (equivalent of Thinc's `chain`) with two ReLu layers and dropout, and an output layer with a softmax activation. Thinc's `TensorFlowWrapper` wraps the model and turns it into a regular Thinc `Model`."
      ]
    },
    {
      "cell_type": "code",
      "metadata": {
        "id": "W3Ubissh78Qm",
        "colab_type": "code",
        "colab": {}
      },
      "source": [
        "!pip install \"tensorflow>2.0\""
      ],
      "execution_count": 0,
      "outputs": []
    },
    {
      "cell_type": "code",
      "metadata": {
        "id": "QCAPCv5R78Qu",
        "colab_type": "code",
        "colab": {}
      },
      "source": [
        "from tensorflow.keras.layers import Dense, Dropout\n",
        "from tensorflow.keras.models import Sequential\n",
        "from thinc.api import TensorFlowWrapper, Adam\n",
        "\n",
        "width = 32\n",
        "nO = 10\n",
        "nI = 784\n",
        "dropout = 0.2\n",
        "\n",
        "tf_model = Sequential()\n",
        "tf_model.add(Dense(width, activation=\"relu\", input_shape=(nI,)))\n",
        "tf_model.add(Dropout(dropout))\n",
        "tf_model.add(Dense(width, activation=\"relu\", input_shape=(nI,)))\n",
        "tf_model.add(Dropout(dropout))\n",
        "tf_model.add(Dense(nO, activation=\"softmax\"))\n",
        "\n",
        "wrapped_tf_model = TensorFlowWrapper(tf_model)\n",
        "wrapped_tf_model"
      ],
      "execution_count": 0,
      "outputs": []
    },
    {
      "cell_type": "markdown",
      "metadata": {
        "id": "IGTR9DrX78Q2",
        "colab_type": "text"
      },
      "source": [
        "You can now use the same training code to train the model:"
      ]
    },
    {
      "cell_type": "code",
      "metadata": {
        "id": "vBSJMbLu78Q_",
        "colab_type": "code",
        "colab": {}
      },
      "source": [
        "data = ml_datasets.mnist()\n",
        "optimizer = Adam(0.001)\n",
        "wrapped_tf_model.initialize(X=train_X[:5], Y=train_Y[:5])\n",
        "train_model(data, wrapped_tf_model, optimizer, n_iter=10, batch_size=128)"
      ],
      "execution_count": 0,
      "outputs": []
    },
    {
      "cell_type": "markdown",
      "metadata": {
        "id": "z5ZQ4dOi78RF",
        "colab_type": "text"
      },
      "source": [
        "### Wrapping PyTorch models\n",
        "\n",
        "Here's the PyTorch version. Thinc's `PyTorchWrapper` wraps the model and turns it into a regular Thinc `Model`."
      ]
    },
    {
      "cell_type": "code",
      "metadata": {
        "id": "awsCcLD-78RJ",
        "colab_type": "code",
        "colab": {}
      },
      "source": [
        "!pip install torch"
      ],
      "execution_count": 0,
      "outputs": []
    },
    {
      "cell_type": "code",
      "metadata": {
        "id": "ZI7oq_Ac78RO",
        "colab_type": "code",
        "colab": {}
      },
      "source": [
        "import torch\n",
        "import torch.nn\n",
        "import torch.nn.functional as F\n",
        "from thinc.api import PyTorchWrapper, Adam\n",
        "\n",
        "\n",
        "width = 32\n",
        "nO = 10\n",
        "nI = 784\n",
        "dropout = 0.2\n",
        "\n",
        "\n",
        "class PyTorchModel(torch.nn.Module):\n",
        "    def __init__(self, width, nO, nI, dropout):\n",
        "        super(PyTorchModel, self).__init__()\n",
        "        self.dropout1 = torch.nn.Dropout2d(dropout)\n",
        "        self.dropout2 = torch.nn.Dropout2d(dropout)\n",
        "        self.fc1 = torch.nn.Linear(nI, width)\n",
        "        self.fc2 = torch.nn.Linear(width, nO)\n",
        "\n",
        "    def forward(self, x):\n",
        "        x = F.relu(x)\n",
        "        x = self.dropout1(x)\n",
        "        x = self.fc1(x)\n",
        "        x = F.relu(x)\n",
        "        x = self.dropout2(x)\n",
        "        x = self.fc2(x)\n",
        "        output = F.log_softmax(x, dim=1)\n",
        "        return output\n",
        "    \n",
        "wrapped_pt_model = PyTorchWrapper(PyTorchModel(width, nO, nI, dropout))\n",
        "wrapped_pt_model"
      ],
      "execution_count": 0,
      "outputs": []
    },
    {
      "cell_type": "markdown",
      "metadata": {
        "id": "0aq0VhNE78RT",
        "colab_type": "text"
      },
      "source": [
        "You can now use the same training code to train the model:"
      ]
    },
    {
      "cell_type": "code",
      "metadata": {
        "id": "5xnr3EhX78RV",
        "colab_type": "code",
        "colab": {}
      },
      "source": [
        "data = ml_datasets.mnist()\n",
        "optimizer = Adam(0.001)\n",
        "wrapped_pt_model.initialize(X=train_X[:5], Y=train_Y[:5])\n",
        "train_model(data, wrapped_pt_model, optimizer, n_iter=10, batch_size=128)"
      ],
      "execution_count": 0,
      "outputs": []
    },
    {
      "cell_type": "markdown",
      "metadata": {
        "id": "iOC0y80K78Rc",
        "colab_type": "text"
      },
      "source": [
        "### Wrapping MXNet models\n",
        "\n",
        "Here's the MXNet version. Thinc's `MXNetWrapper` wraps the model and turns it into a regular Thinc `Model`.\n",
        "\n",
        "MXNet doesn't provide a `Softmax` layer but a `.softmax()` operation/method for prediction and it integrates an internal softmax during training. So to be able to integrate it with the rest of the components, you combine it with a `Softmax()` Thinc layer using the `chain` combinator. Make sure you `initialize()` the MXNet model *and* the Thinc model."
      ]
    },
    {
      "cell_type": "code",
      "metadata": {
        "id": "oQSlHdIK78Re",
        "colab_type": "code",
        "colab": {}
      },
      "source": [
        "!pip install \"mxnet>=1.5.1,<1.6.0\""
      ],
      "execution_count": 0,
      "outputs": []
    },
    {
      "cell_type": "code",
      "metadata": {
        "id": "XrgrctHn78Rj",
        "colab_type": "code",
        "colab": {}
      },
      "source": [
        "from mxnet.gluon.nn import Dense, Sequential, Dropout\n",
        "from thinc.api import MXNetWrapper, chain, Softmax\n",
        "\n",
        "width = 32\n",
        "nO = 10\n",
        "nI = 784\n",
        "dropout = 0.2\n",
        "\n",
        "mx_model = Sequential()\n",
        "mx_model.add(Dense(width, activation=\"relu\"))\n",
        "mx_model.add(Dropout(dropout))\n",
        "mx_model.add(Dense(width, activation=\"relu\"))\n",
        "mx_model.add(Dropout(dropout))\n",
        "mx_model.add(Dense(nO))\n",
        "mx_model.initialize()\n",
        "wrapped_mx_model = chain(MXNetWrapper(mx_model), Softmax())\n",
        "wrapped_mx_model"
      ],
      "execution_count": 0,
      "outputs": []
    },
    {
      "cell_type": "markdown",
      "metadata": {
        "id": "N-FzDJY-78Ro",
        "colab_type": "text"
      },
      "source": [
        "And train it the same way:"
      ]
    },
    {
      "cell_type": "code",
      "metadata": {
        "id": "Rb0IkcEq78Rq",
        "colab_type": "code",
        "colab": {}
      },
      "source": [
        "data = ml_datasets.mnist()\n",
        "optimizer = Adam(0.001)\n",
        "wrapped_mx_model.initialize(X=train_X[:5], Y=train_Y[:5])\n",
        "train_model(data, wrapped_mx_model, optimizer, n_iter=10, batch_size=128)"
      ],
      "execution_count": 0,
      "outputs": []
    },
    {
      "cell_type": "markdown",
      "metadata": {
        "id": "lYT8X1HQ78Ru",
        "colab_type": "text"
      },
      "source": [
        "---\n",
        "\n",
        "## Documentation and resources\n",
        "\n",
        "- <kbd>USAGE</kbd> [Configuration files](https://thinc.ai/docs/usage-config)\n",
        "- <kbd>USAGE</kbd> [Defining and using models](https://thinc.ai/docs/usage-models)\n",
        "- <kbd>USAGE</kbd> [Using Thinc with PyTorch, TensorFlow & MXNet](https://thinc.ai/docs/usage-frameworks)\n",
        "- <kbd>API</kbd> [Available layers and combinators](https://thinc.ai/docs/api-layers)\n",
        "- <kbd>API</kbd> [`Config` and `registry`](https://thinc.ai/docs/api-config)\n",
        "- <kbd>API</kbd> [`Model` class](https://thinc.ai/docs/api-model)"
      ]
    }
  ]
}